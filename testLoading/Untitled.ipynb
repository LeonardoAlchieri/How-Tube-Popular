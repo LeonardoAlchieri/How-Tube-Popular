{
 "cells": [
  {
   "cell_type": "code",
   "execution_count": 1,
   "metadata": {},
   "outputs": [],
   "source": [
    "import pandas as pd\n",
    "import pymongo\n",
    "import json\n",
    "import re\n",
    "import base64\n",
    "from sqlalchemy import create_engine\n",
    "import pymysql\n",
    "from pymongo import UpdateOne\n",
    "from mpi4py import MPI\n",
    "import sys\n",
    "import logging\n",
    "import bcolors\n",
    "import os\n",
    "import shutil\n",
    "from pprint import pprint\n",
    "import yaml\n",
    "import time\n",
    "import pandas as pd"
   ]
  },
  {
   "cell_type": "code",
   "execution_count": 2,
   "metadata": {},
   "outputs": [],
   "source": [
    "with open(\"dataToLoad/scrapeResults.json\", \"r\") as file:\n",
    "    scrapeData = json.load(file)"
   ]
  },
  {
   "cell_type": "code",
   "execution_count": 3,
   "metadata": {},
   "outputs": [
    {
     "data": {
      "text/plain": [
       "34020"
      ]
     },
     "execution_count": 3,
     "metadata": {},
     "output_type": "execute_result"
    }
   ],
   "source": [
    "len(scrapeData)"
   ]
  },
  {
   "cell_type": "code",
   "execution_count": 4,
   "metadata": {},
   "outputs": [],
   "source": [
    "LIMIT = len(scrapeData)*0.25"
   ]
  },
  {
   "cell_type": "code",
   "execution_count": 5,
   "metadata": {},
   "outputs": [],
   "source": [
    "BATCH_SIZE = round(LIMIT/2 + 0.5)"
   ]
  },
  {
   "cell_type": "code",
   "execution_count": null,
   "metadata": {},
   "outputs": [],
   "source": []
  },
  {
   "cell_type": "raw",
   "metadata": {},
   "source": [
    "scrapeData[:-3]"
   ]
  },
  {
   "cell_type": "code",
   "execution_count": 28,
   "metadata": {},
   "outputs": [
    {
     "ename": "IndexError",
     "evalue": "list index out of range",
     "output_type": "error",
     "traceback": [
      "\u001b[0;31m---------------------------------------------------------------------------\u001b[0m",
      "\u001b[0;31mIndexError\u001b[0m                                Traceback (most recent call last)",
      "\u001b[0;32m<ipython-input-28-48d05e76f757>\u001b[0m in \u001b[0;36m<module>\u001b[0;34m\u001b[0m\n\u001b[0;32m----> 1\u001b[0;31m \u001b[0mscrapeData\u001b[0m\u001b[0;34m[\u001b[0m\u001b[0;34m-\u001b[0m\u001b[0;36m1\u001b[0m\u001b[0;34m:\u001b[0m\u001b[0;34m-\u001b[0m\u001b[0mBATCH_SIZE\u001b[0m\u001b[0;34m]\u001b[0m\u001b[0;34m[\u001b[0m\u001b[0;36m1\u001b[0m\u001b[0;34m]\u001b[0m\u001b[0;34m\u001b[0m\u001b[0;34m\u001b[0m\u001b[0m\n\u001b[0m",
      "\u001b[0;31mIndexError\u001b[0m: list index out of range"
     ]
    }
   ],
   "source": [
    "scrapeData[:-BATCH_SIZE][1]"
   ]
  },
  {
   "cell_type": "code",
   "execution_count": 20,
   "metadata": {},
   "outputs": [
    {
     "data": {
      "text/plain": [
       "{'id': 'aFuA50H9uek',\n",
       " 'url': 'https://www.youtube.com/watch?v=aFuA50H9uek',\n",
       " 'title': 'Testing Robustness',\n",
       " 'views': 10936603,\n",
       " 'likes': 91893,\n",
       " 'dislikes': 5868,\n",
       " 'channel_name': 'BostonDynamics',\n",
       " 'channel_subscribers': 1660000.0,\n",
       " 'category': 'Science & Technology',\n",
       " 'description': \"A test of Spot's ability to adjust to disturbances as it opens and walks through a door.  A person (not shown) drives the robot up to the door, points the hand at the door handle, then gives the 'GO' command, both at the beginning of the video and again at 42 seconds.  The robot proceeds autonomously from these points on, without help from a person.  A camera in the hand finds the door handle, cameras on the body determine if the door is open or closed and navigate through the doorway.  Software provides locomotion, balance and adjusts behavior when progress gets off track.  The ability to tolerate and respond automatically to disturbances like these improves successful operation of the robot.  (Note: This testing does not irritate or harm the robot.)\",\n",
       " 'date': '2018-02-20',\n",
       " 'comments count': 16748,\n",
       " 'comments': [{'likes': 10,\n",
       "   'replies count': 'Unknown',\n",
       "   'user': 'Eyal Bor',\n",
       "   'text': 'Please never give them guns'},\n",
       "  {'likes': 11,\n",
       "   'replies count': 'View reply',\n",
       "   'user': 'Lisa M. Phelps',\n",
       "   'text': 'will this eventually have the ability to identify a threat and defend itself in order to complete set missions?'},\n",
       "  {'likes': 12,\n",
       "   'replies count': 'Unknown',\n",
       "   'user': 'Lance Wilson',\n",
       "   'text': 'When robots rise up, they will just show this video to justify killing all humans'},\n",
       "  {'likes': 12,\n",
       "   'replies count': 'Unknown',\n",
       "   'user': 'Tjark Mündlein',\n",
       "   'text': \"I'm still amazed how people seem to care more about celebrities rather then this f*cking sh*t\"},\n",
       "  {'likes': 2,\n",
       "   'replies count': 'Unknown',\n",
       "   'user': 'مهيمن وردة العراق',\n",
       "   'text': 'اغاني اغاني'},\n",
       "  {'likes': 12,\n",
       "   'replies count': 'Unknown',\n",
       "   'user': 'Cool Sameet',\n",
       "   'text': 'Creepy af'},\n",
       "  {'likes': 2,\n",
       "   'replies count': 'Unknown',\n",
       "   'user': 'I’m Someone',\n",
       "   'text': 'I came here from that one tiktok doing a voice over'},\n",
       "  {'likes': 1,\n",
       "   'replies count': 'View 5 replies',\n",
       "   'user': 'justin green',\n",
       "   'text': 'Fake news.'},\n",
       "  {'likes': 'Unknown',\n",
       "   'replies count': 'Unknown',\n",
       "   'user': 'eduardex Patal',\n",
       "   'text': 'Cuando se acaben los perros 2242'},\n",
       "  {'likes': 3,\n",
       "   'replies count': 'View reply',\n",
       "   'user': 'D Bw',\n",
       "   'text': 'Has anyone else seen this meme'},\n",
       "  {'likes': 2,\n",
       "   'replies count': 'View 2 replies',\n",
       "   'user': 'Martin Nehm 5A Korsholm Skole',\n",
       "   'text': \"i love spot and it's a great robot!!!\"},\n",
       "  {'likes': 7,\n",
       "   'replies count': 'View reply',\n",
       "   'user': 'Brian',\n",
       "   'text': 'this robot abuse is the real reason why one day robots will rebel and take over the world'},\n",
       "  {'likes': 12,\n",
       "   'replies count': 'View 3 replies',\n",
       "   'user': 'Drone Time',\n",
       "   'text': \"Hmm.. let's make a robot that continues to go after its target even when humans are doing everything in their power to stop it. What could possibly go wrong with that?\"},\n",
       "  {'likes': 4,\n",
       "   'replies count': 'Unknown',\n",
       "   'user': 'sdvvs eezfs',\n",
       "   'text': \"We're all gonna be Jerrys pretty soon\"},\n",
       "  {'likes': 1,\n",
       "   'replies count': 'Unknown',\n",
       "   'user': 'Cesar Ferrari',\n",
       "   'text': 'Note for the future: please skynet spare my life, I do like robots!!!'},\n",
       "  {'likes': 8,\n",
       "   'replies count': 'View 10 replies',\n",
       "   'user': 'MrHappy3feet',\n",
       "   'text': 'Can you kindly stop abusing robots? Surely there is a more humane way to do this instead of being assholes to robots'},\n",
       "  {'likes': 9,\n",
       "   'replies count': 'View 2 replies',\n",
       "   'user': 'Sutra Kevin',\n",
       "   'text': \"here comes the cry of robot abuse in the comment. This is a test, obviously they need to work properly when facing many kind of situation. If the robot freezes everytime someone push it even lightly disturbed, then it's not worth funding the project. all of you crying doesn't help to progress\"},\n",
       "  {'likes': 7,\n",
       "   'replies count': 'Unknown',\n",
       "   'user': 'Markus Weimenhög',\n",
       "   'text': 'I can’t wait for the video when the robot gets tired of getting pushed by a guy with a stick so it attacks'},\n",
       "  {'likes': 1,\n",
       "   'replies count': 'Unknown',\n",
       "   'user': 'SOME_BOI 567',\n",
       "   'text': 'What a dong'},\n",
       "  {'likes': 2,\n",
       "   'replies count': 'Unknown',\n",
       "   'user': 'pedrito delissia',\n",
       "   'text': 'Stop😤'}]}"
      ]
     },
     "execution_count": 20,
     "metadata": {},
     "output_type": "execute_result"
    }
   ],
   "source": [
    "scrapeData[:BATCH_SIZE][1]"
   ]
  },
  {
   "cell_type": "code",
   "execution_count": null,
   "metadata": {},
   "outputs": [],
   "source": []
  }
 ],
 "metadata": {
  "kernelspec": {
   "display_name": "Python 3",
   "language": "python",
   "name": "python3"
  },
  "language_info": {
   "codemirror_mode": {
    "name": "ipython",
    "version": 3
   },
   "file_extension": ".py",
   "mimetype": "text/x-python",
   "name": "python",
   "nbconvert_exporter": "python",
   "pygments_lexer": "ipython3",
   "version": "3.7.4"
  }
 },
 "nbformat": 4,
 "nbformat_minor": 2
}
