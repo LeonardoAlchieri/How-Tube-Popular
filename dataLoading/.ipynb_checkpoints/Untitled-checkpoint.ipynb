{
 "cells": [
  {
   "cell_type": "code",
   "execution_count": 1,
   "metadata": {},
   "outputs": [],
   "source": [
    "# by Leonardo Alchieri, 2019\n",
    "\n",
    "from YoutubeScraper import Scraper\n",
    "import bcolors\n",
    "from selenium import webdriver\n",
    "from selenium.webdriver.common.keys import Keys\n",
    "from selenium.webdriver.chrome.options import Options\n",
    "import os\n",
    "import json\n",
    "import re\n",
    "from mpi4py import MPI\n",
    "import logging\n",
    "import shutil"
   ]
  },
  {
   "cell_type": "code",
   "execution_count": 2,
   "metadata": {},
   "outputs": [],
   "source": [
    "WHICH_COLLECTION = 1"
   ]
  },
  {
   "cell_type": "code",
   "execution_count": 3,
   "metadata": {},
   "outputs": [
    {
     "ename": "IndentationError",
     "evalue": "unexpected indent (<ipython-input-3-c966b4a98c80>, line 2)",
     "output_type": "error",
     "traceback": [
      "\u001b[0;36m  File \u001b[0;32m\"<ipython-input-3-c966b4a98c80>\"\u001b[0;36m, line \u001b[0;32m2\u001b[0m\n\u001b[0;31m    with open(\"configMongo.yml\", \"r\") as file:\u001b[0m\n\u001b[0m    ^\u001b[0m\n\u001b[0;31mIndentationError\u001b[0m\u001b[0;31m:\u001b[0m unexpected indent\n"
     ]
    }
   ],
   "source": [
    "logging.info(\"[\"+str(ID)+\"] Connecting to Mongo.\")\n",
    "with open(\"configMongo.yml\", \"r\") as file:\n",
    "    cfgMongo = yaml.safe_load(file)\n",
    "\n",
    "MONGO_HOST = cfgMongo[\"host\"]\n",
    "MONGO_DATABASE = cfgMongo[\"database\"]\n",
    "clientMongo = pymongo.MongoClient(MONGO_HOST)\n",
    "databaseMongo = clientMongo[MONGO_DATABASE]\n",
    "\n",
    "# Connect to source collection\n",
    "if WHICH_COLLECTION == 1:\n",
    "    collectionName = \"kaggleNation\"\n",
    "elif WHICH_COLLECTION == 2:\n",
    "    collectionName = \"API\"\n",
    "else:\n",
    "    logging.error(\"[\"+str(ID)+\"] Couldn't figure out which database. Use 1 for Kaggle, 2 for API.\")\n",
    "    return -1\n",
    "\n",
    "sourceCollection = databaseMongo[collectionName]"
   ]
  },
  {
   "cell_type": "code",
   "execution_count": null,
   "metadata": {},
   "outputs": [],
   "source": []
  }
 ],
 "metadata": {
  "kernelspec": {
   "display_name": "Python 3",
   "language": "python",
   "name": "python3"
  },
  "language_info": {
   "codemirror_mode": {
    "name": "ipython",
    "version": 3
   },
   "file_extension": ".py",
   "mimetype": "text/x-python",
   "name": "python",
   "nbconvert_exporter": "python",
   "pygments_lexer": "ipython3",
   "version": "3.7.4"
  }
 },
 "nbformat": 4,
 "nbformat_minor": 2
}
