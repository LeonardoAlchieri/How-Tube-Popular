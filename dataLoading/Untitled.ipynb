{
 "cells": [
  {
   "cell_type": "code",
   "execution_count": 1,
   "metadata": {},
   "outputs": [],
   "source": [
    "# by Leonardo Alchieri, 2019\n",
    "\n",
    "from youtube_scraper_lib import Scraper\n",
    "import bcolors\n",
    "from selenium import webdriver\n",
    "from selenium.webdriver.common.keys import Keys\n",
    "from selenium.webdriver.chrome.options import Options\n",
    "import os\n",
    "import json\n",
    "import re\n",
    "from mpi4py import MPI\n",
    "import logging\n",
    "import pandas as pd\n",
    "import pymongo\n",
    "import json\n",
    "import re\n",
    "import base64\n",
    "from sqlalchemy import create_engine\n",
    "import pymysql\n",
    "from pymongo import UpdateOne\n",
    "from mpi4py import MPI\n",
    "import sys\n",
    "import logging\n",
    "import bcolors\n",
    "import os\n",
    "import shutil\n",
    "from pprint import pprint\n",
    "import yaml"
   ]
  },
  {
   "cell_type": "code",
   "execution_count": 2,
   "metadata": {},
   "outputs": [],
   "source": [
    "WHICH_COLLECTION = 1"
   ]
  },
  {
   "cell_type": "code",
   "execution_count": 3,
   "metadata": {},
   "outputs": [],
   "source": [
    "with open(\"configMongo.yml\", \"r\") as file:\n",
    "    cfgMongo = yaml.safe_load(file)\n",
    "\n",
    "MONGO_HOST = cfgMongo[\"host\"]\n",
    "MONGO_DATABASE = cfgMongo[\"database\"]\n",
    "clientMongo = pymongo.MongoClient(MONGO_HOST)\n",
    "databaseMongo = clientMongo[MONGO_DATABASE]\n",
    "\n",
    "# Connect to source collection\n",
    "if WHICH_COLLECTION == 1:\n",
    "    collectionName = \"kaggleNation\"\n",
    "elif WHICH_COLLECTION == 2:\n",
    "    collectionName = \"API\"\n",
    "\n",
    "sourceCollection = databaseMongo[collectionName]"
   ]
  },
  {
   "cell_type": "code",
   "execution_count": 12,
   "metadata": {},
   "outputs": [],
   "source": [
    "BATCH_SIZE = 20\n",
    "ID = 0\n",
    "cursor = sourceCollection.find().skip(BATCH_SIZE*ID).limit(BATCH_SIZE)"
   ]
  },
  {
   "cell_type": "code",
   "execution_count": 13,
   "metadata": {
    "scrolled": false
   },
   "outputs": [
    {
     "data": {
      "text/plain": [
       "20"
      ]
     },
     "execution_count": 13,
     "metadata": {},
     "output_type": "execute_result"
    }
   ],
   "source": [
    "count = 0\n",
    "dic = []\n",
    "for result in cursor:\n",
    "    count = count + 1\n",
    "    dic.append(result)\n",
    "len(dic)"
   ]
  },
  {
   "cell_type": "code",
   "execution_count": null,
   "metadata": {},
   "outputs": [],
   "source": []
  }
 ],
 "metadata": {
  "kernelspec": {
   "display_name": "Python 3",
   "language": "python",
   "name": "python3"
  },
  "language_info": {
   "codemirror_mode": {
    "name": "ipython",
    "version": 3
   },
   "file_extension": ".py",
   "mimetype": "text/x-python",
   "name": "python",
   "nbconvert_exporter": "python",
   "pygments_lexer": "ipython3",
   "version": "3.7.4"
  }
 },
 "nbformat": 4,
 "nbformat_minor": 2
}
